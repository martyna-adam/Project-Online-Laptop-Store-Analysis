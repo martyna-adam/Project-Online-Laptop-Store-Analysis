{
 "cells": [
  {
   "cell_type": "markdown",
   "metadata": {},
   "source": [
    "# Online Laptop Store Inventory Analysis\n",
    "\n",
    "In this project, we will utilise Python to build a way to answer different business questions about the online laptop store inventory. \n",
    "\n",
    "The key skills used in this project:\n",
    "* analysing time and space complexity of algorithms\n",
    "* preprocessing data to speed up algorithms\n",
    "* sorting data and searching sorted data\n",
    "* using efficient algorithms \n",
    "\n",
    "The data used has been adapted from the 'Laptop Prices' dataset which can be found on Kaggle. \n",
    "\n",
    "The goal of this project is to create a class which will represent the inventory of the online laptop store. The methods in this class will implement the queries that we want to answer about the inventory. The data will be preprocessed to make the queries run faster. \n",
    "\n",
    "Examples of queries we may wish to answer:\n",
    "1. Given a laptop ID, find the corresponding data\n",
    "2. Given the amount of money, find whether there are two laptops whose total price will equal the amount of money\n",
    "3. Identify all laptops whose price falls within a given budget "
   ]
  },
  {
   "cell_type": "markdown",
   "metadata": {},
   "source": [
    "# Reading the inventory\n",
    "\n",
    "Let's read in the file using a context manager, and display the header and first few rows of the dataset. "
   ]
  },
  {
   "cell_type": "code",
   "execution_count": 1,
   "metadata": {},
   "outputs": [
    {
     "name": "stdout",
     "output_type": "stream",
     "text": [
      "['Id', 'Company', 'Product', 'TypeName', 'Inches', 'ScreenResolution', 'Cpu', 'Ram', 'Memory', 'Gpu', 'OpSys', 'Weight', 'Price']\n",
      "\n",
      "\n",
      "[['6571244', 'Apple', 'MacBook Pro', 'Ultrabook', '13.3', 'IPS Panel Retina Display 2560x1600', 'Intel Core i5 2.3GHz', '8GB', '128GB SSD', 'Intel Iris Plus Graphics 640', 'macOS', '1.37kg', '1339'], ['7287764', 'Apple', 'Macbook Air', 'Ultrabook', '13.3', '1440x900', 'Intel Core i5 1.8GHz', '8GB', '128GB Flash Storage', 'Intel HD Graphics 6000', 'macOS', '1.34kg', '898'], ['3362737', 'HP', '250 G6', 'Notebook', '15.6', 'Full HD 1920x1080', 'Intel Core i5 7200U 2.5GHz', '8GB', '256GB SSD', 'Intel HD Graphics 620', 'No OS', '1.86kg', '575'], ['9722156', 'Apple', 'MacBook Pro', 'Ultrabook', '15.4', 'IPS Panel Retina Display 2880x1800', 'Intel Core i7 2.7GHz', '16GB', '512GB SSD', 'AMD Radeon Pro 455', 'macOS', '1.83kg', '2537']]\n"
     ]
    }
   ],
   "source": [
    "import csv \n",
    "with open('laptops.csv') as file:\n",
    "    laptop_data = list(csv.reader(file))\n",
    "    \n",
    "header = laptop_data[0]\n",
    "rows = laptop_data[1:]\n",
    "\n",
    "print(header)\n",
    "print('\\n')\n",
    "print(rows[:4])"
   ]
  },
  {
   "cell_type": "markdown",
   "metadata": {},
   "source": [
    "# Creating an Inventory class\n",
    "To create a class, we first need to implement a constructor. The construtor will take the name of the csv file as an argument, and read the rows that are contained within it. "
   ]
  },
  {
   "cell_type": "code",
   "execution_count": 2,
   "metadata": {},
   "outputs": [
    {
     "name": "stdout",
     "output_type": "stream",
     "text": [
      "['Id', 'Company', 'Product', 'TypeName', 'Inches', 'ScreenResolution', 'Cpu', 'Ram', 'Memory', 'Gpu', 'OpSys', 'Weight', 'Price']\n",
      "\n",
      "\n",
      "1303\n"
     ]
    }
   ],
   "source": [
    "class Inventory():\n",
    "    \n",
    "    def __init__(self, csv_filename):\n",
    "        with open(csv_filename) as file:\n",
    "            data = list(csv.reader(file))\n",
    "        self.header = data[0]\n",
    "        self.rows = data[1:]\n",
    "        for row in self.rows:\n",
    "            row[-1] = int(row[-1])\n",
    "        \n",
    "inventory = Inventory('laptops.csv')\n",
    "\n",
    "print(inventory.header)\n",
    "print('\\n')\n",
    "print(len(inventory.rows))"
   ]
  },
  {
   "cell_type": "markdown",
   "metadata": {},
   "source": [
    "# Finding a laptop based on a laptop ID \n",
    "\n",
    "In this project we will be making several changes to the Inventory class. To aid in keeping track of changes made, the Inventory class code will be copied each time and modified. \n",
    "\n",
    "The first thing we need to do to help us answer one of the queries on the inventory is a way to look up a laptop, given an ID. We will write a function which will take in the ID of the laptop as an argument, and return the full row of the laptop with that particular ID. "
   ]
  },
  {
   "cell_type": "code",
   "execution_count": 3,
   "metadata": {},
   "outputs": [],
   "source": [
    "class Inventory():\n",
    "    \n",
    "    def __init__(self, csv_filename):\n",
    "        with open(csv_filename) as file:\n",
    "            data = list(csv.reader(file))\n",
    "        self.header = data[0]\n",
    "        self.rows = data[1:]\n",
    "        for row in self.rows:\n",
    "            row[-1] = int(row[-1])\n",
    "    \n",
    "    def get_laptop_from_id(self, laptop_id):\n",
    "        for row in self.rows:\n",
    "            if row[0] == laptop_id:\n",
    "                return row \n",
    "        return None "
   ]
  },
  {
   "cell_type": "code",
   "execution_count": 4,
   "metadata": {},
   "outputs": [
    {
     "name": "stdout",
     "output_type": "stream",
     "text": [
      "['3362737', 'HP', '250 G6', 'Notebook', '15.6', 'Full HD 1920x1080', 'Intel Core i5 7200U 2.5GHz', '8GB', '256GB SSD', 'Intel HD Graphics 620', 'No OS', '1.86kg', 575]\n",
      "\n",
      "\n",
      "None\n"
     ]
    }
   ],
   "source": [
    "inventory = Inventory('laptops.csv')\n",
    "\n",
    "print(inventory.get_laptop_from_id('3362737'))\n",
    "print('\\n')\n",
    "print(inventory.get_laptop_from_id('3362736'))"
   ]
  },
  {
   "cell_type": "markdown",
   "metadata": {},
   "source": [
    "# Improving ID lookups\n",
    "\n",
    "Although the algorithm from the previous screen works, it requires us to look at every single row to find the one we are looking for. It has a higher time complexity. To reduce this, we can preprocess the data, and use a dictionary to check in constant time whether an ID exists, and then retrieve the relevant information. "
   ]
  },
  {
   "cell_type": "code",
   "execution_count": 5,
   "metadata": {},
   "outputs": [],
   "source": [
    "class Inventory():\n",
    "    \n",
    "    def __init__(self, csv_filename):\n",
    "        with open(csv_filename) as file:\n",
    "            data = list(csv.reader(file))\n",
    "        self.header = data[0]\n",
    "        self.rows = data[1:]\n",
    "        for row in self.rows:\n",
    "            row[-1] = int(row[-1])\n",
    "        self.id_to_row = {}\n",
    "        for row in self.rows:\n",
    "            self.id_to_row[row[0]] = row \n",
    "    \n",
    "    def get_laptop_from_id(self, laptop_id):\n",
    "        for row in self.rows:\n",
    "            if row[0] == laptop_id:\n",
    "                return row \n",
    "        return None \n",
    "    \n",
    "    def get_laptop_from_id_fast(self, laptop_id):\n",
    "        for row in self.rows:\n",
    "            if laptop_id in self.id_to_row:\n",
    "                return self.id_to_row[laptop_id]\n",
    "        return None "
   ]
  },
  {
   "cell_type": "code",
   "execution_count": 6,
   "metadata": {},
   "outputs": [
    {
     "name": "stdout",
     "output_type": "stream",
     "text": [
      "['3362737', 'HP', '250 G6', 'Notebook', '15.6', 'Full HD 1920x1080', 'Intel Core i5 7200U 2.5GHz', '8GB', '256GB SSD', 'Intel HD Graphics 620', 'No OS', '1.86kg', 575]\n",
      "\n",
      "\n",
      "None\n"
     ]
    }
   ],
   "source": [
    "inventory = Inventory('laptops.csv')\n",
    "\n",
    "print(inventory.get_laptop_from_id_fast('3362737'))\n",
    "print('\\n')\n",
    "print(inventory.get_laptop_from_id_fast('3362736'))"
   ]
  },
  {
   "cell_type": "markdown",
   "metadata": {},
   "source": [
    "# Comparing the Performance of the two algorithms\n",
    "\n",
    "The get_laptop_from_id_fast() algorithm has a more optimised time complexity, as it uses more memory to store a dictionary and more time to create the instance. \n",
    "\n",
    "To compare the performance of the two algorithms, we can use the time module and compute a list of random ID's to test the algorithms and the time it takes to run. "
   ]
  },
  {
   "cell_type": "code",
   "execution_count": 7,
   "metadata": {},
   "outputs": [
    {
     "name": "stdout",
     "output_type": "stream",
     "text": [
      "The total time taken for the algorithm with no dictionary is:  1.294353723526001\n",
      "\n",
      "\n",
      "The total time taken for the algorithm with a dictionary is:  1.2109296321868896\n"
     ]
    }
   ],
   "source": [
    "import time\n",
    "import random \n",
    "\n",
    "N = 10000\n",
    "ids = [str(random.randint(1000000, 9999999)) for _ in range(N)]\n",
    "\n",
    "\n",
    "inventory = Inventory('laptops.csv')\n",
    "\n",
    "total_time_no_dict = 0\n",
    "\n",
    "for id in ids:\n",
    "    start = time.time()\n",
    "    inventory.get_laptop_from_id(id)\n",
    "    end = time.time()\n",
    "    total_time_no_dict += end - start\n",
    "    \n",
    "total_time_dict = 0\n",
    "\n",
    "for id in ids:\n",
    "    start = time.time()\n",
    "    inventory.get_laptop_from_id_fast(id)\n",
    "    end = time.time()\n",
    "    total_time_dict += end - start\n",
    "    \n",
    "print(\"The total time taken for the algorithm with no dictionary is: \", total_time_no_dict)\n",
    "print('\\n')\n",
    "print(\"The total time taken for the algorithm with a dictionary is: \", total_time_dict)\n"
   ]
  },
  {
   "cell_type": "markdown",
   "metadata": {},
   "source": [
    "We can see that the second algorithm is faster at locating the laptops given an ID. "
   ]
  },
  {
   "cell_type": "markdown",
   "metadata": {},
   "source": [
    "# Two Laptop Promotion - gift cards\n",
    "\n",
    "Sometimes the online laptop store will offer a promotion including gift cards. The customer can only use the gift card once, and can only use it to buy up to 2 laptops. To make the best use out of the gift card, we want to ensure that each gift card can be used in full. This means, making sure there is a laptop worth exactly that amount, or two laptops that will add up to that exact amount. "
   ]
  },
  {
   "cell_type": "code",
   "execution_count": 8,
   "metadata": {},
   "outputs": [],
   "source": [
    "class Inventory():\n",
    "    \n",
    "    def __init__(self, csv_filename):\n",
    "        with open(csv_filename) as file:\n",
    "            data = list(csv.reader(file))\n",
    "        self.header = data[0]\n",
    "        self.rows = data[1:]\n",
    "        for row in self.rows:\n",
    "            row[-1] = int(row[-1])\n",
    "        self.id_to_row = {}\n",
    "        for row in self.rows:\n",
    "            self.id_to_row[row[0]] = row \n",
    "    \n",
    "    def get_laptop_from_id(self, laptop_id):\n",
    "        for row in self.rows:\n",
    "            if row[0] == laptop_id:\n",
    "                return row \n",
    "        return None \n",
    "    \n",
    "    def get_laptop_from_id_fast(self, laptop_id):\n",
    "        for row in self.rows:\n",
    "            if laptop_id in self.id_to_row:\n",
    "                return self.id_to_row[laptop_id]\n",
    "        return None \n",
    "    \n",
    "    def check_promotion_dollars(self, dollars):\n",
    "        for row in self.rows:\n",
    "            if row[-1] == dollars:\n",
    "                return True \n",
    "        for row1 in self.rows:\n",
    "            for row2 in self.rows:\n",
    "                if row1[-1] + row2[-1] == dollars:\n",
    "                    return True\n",
    "        return False "
   ]
  },
  {
   "cell_type": "code",
   "execution_count": 9,
   "metadata": {},
   "outputs": [
    {
     "name": "stdout",
     "output_type": "stream",
     "text": [
      "True\n",
      "\n",
      "\n",
      "False\n"
     ]
    }
   ],
   "source": [
    "inventory = Inventory('laptops.csv')\n",
    "\n",
    "print(inventory.check_promotion_dollars(1000))\n",
    "print('\\n')\n",
    "print(inventory.check_promotion_dollars(442))"
   ]
  },
  {
   "cell_type": "markdown",
   "metadata": {},
   "source": [
    "# Optimizing Laptop Promotion \n",
    "\n",
    "Once again, we can preprocess the data, and store the laptop prices in a set which will allow checking whether there is a laptop at a given price in constant time. "
   ]
  },
  {
   "cell_type": "code",
   "execution_count": 10,
   "metadata": {},
   "outputs": [],
   "source": [
    "class Inventory():\n",
    "    \n",
    "    def __init__(self, csv_filename):\n",
    "        with open(csv_filename) as file:\n",
    "            data = list(csv.reader(file))\n",
    "        self.header = data[0]\n",
    "        self.rows = data[1:]\n",
    "        for row in self.rows:\n",
    "            row[-1] = int(row[-1])\n",
    "        self.id_to_row = {}\n",
    "        for row in self.rows:\n",
    "            self.id_to_row[row[0]] = row \n",
    "        self.prices = set()\n",
    "        for row in self.rows:\n",
    "            self.prices.add(row[-1])\n",
    "    \n",
    "    def get_laptop_from_id(self, laptop_id):\n",
    "        for row in self.rows:\n",
    "            if row[0] == laptop_id:\n",
    "                return row \n",
    "        return None \n",
    "    \n",
    "    def get_laptop_from_id_fast(self, laptop_id):\n",
    "        for row in self.rows:\n",
    "            if laptop_id in self.id_to_row:\n",
    "                return self.id_to_row[laptop_id]\n",
    "        return None \n",
    "    \n",
    "    def check_promotion_dollars(self, dollars):\n",
    "        for row in self.rows:\n",
    "            if row[-1] == dollars:\n",
    "                return True \n",
    "        for row1 in self.rows:\n",
    "            for row2 in self.rows:\n",
    "                if row1[-1] + row2[-1] == dollars:\n",
    "                    return True\n",
    "        return False \n",
    "    \n",
    "    def check_promotion_dollars_fast(self, dollars):\n",
    "        for row in self.rows:\n",
    "            if dollars in self.prices:\n",
    "                return True \n",
    "        for row1 in self.rows:\n",
    "            for row2 in self.rows:\n",
    "                if row1[-1] + row2[-1] == dollars:\n",
    "                    return True\n",
    "        return False "
   ]
  },
  {
   "cell_type": "code",
   "execution_count": 11,
   "metadata": {},
   "outputs": [
    {
     "name": "stdout",
     "output_type": "stream",
     "text": [
      "True\n",
      "\n",
      "\n",
      "False\n"
     ]
    }
   ],
   "source": [
    "inventory = Inventory('laptops.csv')\n",
    "\n",
    "print(inventory.check_promotion_dollars_fast(1000))\n",
    "print('\\n')\n",
    "print(inventory.check_promotion_dollars_fast(442))"
   ]
  },
  {
   "cell_type": "markdown",
   "metadata": {},
   "source": [
    "# Comparing Promotion Functions \n",
    "\n",
    "We can use similar syntax to before, to compare the performance of the two promotion functions. "
   ]
  },
  {
   "cell_type": "code",
   "execution_count": 12,
   "metadata": {},
   "outputs": [
    {
     "name": "stdout",
     "output_type": "stream",
     "text": [
      "The total time taken for the algorithm with no set is:  2.3297410011291504\n",
      "\n",
      "\n",
      "The total time taken for the algorithm with a set is:  2.371800422668457\n"
     ]
    }
   ],
   "source": [
    "N = 100\n",
    "prices = [random.randint(100, 5000) for _ in range(N)]\n",
    "\n",
    "inventory = Inventory('laptops.csv')\n",
    "\n",
    "total_time_no_set = 0\n",
    "for price in prices:\n",
    "    start = time.time()\n",
    "    inventory.check_promotion_dollars(price)\n",
    "    end = time.time()\n",
    "    total_time_no_set += end - start \n",
    "    \n",
    "total_time_set = 0\n",
    "for price in prices:\n",
    "    start = time.time()\n",
    "    inventory.check_promotion_dollars_fast(price)\n",
    "    end = time.time()\n",
    "    total_time_set += end - start \n",
    "    \n",
    "print(\"The total time taken for the algorithm with no set is: \", total_time_no_set)\n",
    "print('\\n')\n",
    "print(\"The total time taken for the algorithm with a set is: \", total_time_set)"
   ]
  },
  {
   "cell_type": "markdown",
   "metadata": {},
   "source": [
    "# Finding Laptops Within a Budget \n",
    "\n",
    "To be able to write a query that finds all of the laptops that fall within the budget, we need to use binary search. If we sort the laptops by price, then the binary search will identify the first laptop in a sorted list which is larger than the budget. Therefore, the result will have all the laptops whose index is smaller than the index of the first laptop whose price is out of the budget. "
   ]
  },
  {
   "cell_type": "code",
   "execution_count": 14,
   "metadata": {},
   "outputs": [],
   "source": [
    "def row_price(row):\n",
    "    return row[-1]\n",
    "\n",
    "class Inventory():\n",
    "    \n",
    "    def __init__(self, csv_filename):\n",
    "        with open(csv_filename) as file:\n",
    "            data = list(csv.reader(file))\n",
    "        self.header = data[0]\n",
    "        self.rows = data[1:]\n",
    "        for row in self.rows:\n",
    "            row[-1] = int(row[-1])\n",
    "        self.id_to_row = {}\n",
    "        for row in self.rows:\n",
    "            self.id_to_row[row[0]] = row \n",
    "        self.prices = set()\n",
    "        for row in self.rows:\n",
    "            self.prices.add(row[-1])\n",
    "        self.rows_by_price = sorted(self.rows, key = row_price)\n",
    "    \n",
    "    def get_laptop_from_id(self, laptop_id):\n",
    "        for row in self.rows:\n",
    "            if row[0] == laptop_id:\n",
    "                return row \n",
    "        return None \n",
    "    \n",
    "    def get_laptop_from_id_fast(self, laptop_id):\n",
    "        for row in self.rows:\n",
    "            if laptop_id in self.id_to_row:\n",
    "                return self.id_to_row[laptop_id]\n",
    "        return None \n",
    "    \n",
    "    def check_promotion_dollars(self, dollars):\n",
    "        for row in self.rows:\n",
    "            if row[-1] == dollars:\n",
    "                return True \n",
    "        for row1 in self.rows:\n",
    "            for row2 in self.rows:\n",
    "                if row1[-1] + row2[-1] == dollars:\n",
    "                    return True\n",
    "        return False \n",
    "    \n",
    "    def check_promotion_dollars_fast(self, dollars):\n",
    "        for row in self.rows:\n",
    "            if dollars in self.prices:\n",
    "                return True \n",
    "        for row1 in self.rows:\n",
    "            for row2 in self.rows:\n",
    "                if row1[-1] + row2[-1] == dollars:\n",
    "                    return True\n",
    "        return False \n",
    "    \n",
    "    def find_laptop_with_price(self, target_price):\n",
    "        range_start = 0                                   \n",
    "        range_end = len(self.rows_by_price) - 1                       \n",
    "        while range_start < range_end:\n",
    "            range_middle = (range_end + range_start) // 2  \n",
    "            price = self.rows_by_price[range_middle][-1]\n",
    "            if price == target_price:                            \n",
    "                return range_middle                        \n",
    "            elif price < target_price:                           \n",
    "                range_start = range_middle + 1             \n",
    "            else:                                          \n",
    "                range_end = range_middle - 1 \n",
    "        price = self.rows_by_price[range_start][-1]\n",
    "        if price != target_price:                  \n",
    "            return -1                                      \n",
    "        return range_start\n",
    "    \n",
    "    def find_first_laptop_more_expensive(self, target_price): \n",
    "        range_start = 0                                   \n",
    "        range_end = len(self.rows_by_price) - 1                   \n",
    "        while range_start < range_end:\n",
    "            range_middle = (range_end + range_start) // 2  \n",
    "            price = self.rows_by_price[range_middle][-1]\n",
    "            if price > target_price:\n",
    "                range_end = range_middle\n",
    "            else:\n",
    "                range_start = range_middle + 1\n",
    "        if self.rows_by_price[range_start][-1] <= target_price:                  \n",
    "            return -1                                   \n",
    "        return range_start\n"
   ]
  },
  {
   "cell_type": "code",
   "execution_count": 15,
   "metadata": {},
   "outputs": [
    {
     "name": "stdout",
     "output_type": "stream",
     "text": [
      "683\n",
      "\n",
      "\n",
      "-1\n"
     ]
    }
   ],
   "source": [
    "inventory = Inventory('laptops.csv')\n",
    "\n",
    "print(inventory.find_first_laptop_more_expensive(1000))\n",
    "print('\\n')\n",
    "print(inventory.find_first_laptop_more_expensive(10000))"
   ]
  }
 ],
 "metadata": {
  "kernelspec": {
   "display_name": "Python 3",
   "language": "python",
   "name": "python3"
  },
  "language_info": {
   "codemirror_mode": {
    "name": "ipython",
    "version": 3
   },
   "file_extension": ".py",
   "mimetype": "text/x-python",
   "name": "python",
   "nbconvert_exporter": "python",
   "pygments_lexer": "ipython3",
   "version": "3.8.8"
  }
 },
 "nbformat": 4,
 "nbformat_minor": 2
}
